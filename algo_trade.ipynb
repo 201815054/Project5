{
 "cells": [
  {
   "cell_type": "code",
   "execution_count": null,
   "id": "781ef2bd",
   "metadata": {},
   "outputs": [],
   "source": [
    "기술지표"
   ]
  },
  {
   "cell_type": "code",
   "execution_count": null,
   "id": "dacef4bd",
   "metadata": {},
   "outputs": [],
   "source": [
    "입력 데이터가 매우 중요함.. \n",
    "사용하는 데이터에 따라 주가를 사용해 기술지표를 만듬\n",
    "퀀트 - 기술지표, 기업재무제표 - 가치투자\n",
    "올라간 주식이 계속오른다 - 모멘텀\n",
    "올라간 주식은 반드시 내려온다(또는 평균으로 회귀함) - 평균회귀지표 \n",
    "기술적 지표중 자주사용하는것 \n",
    "- 이동평균선, - 상대 강도 지수, - 스토캐스틱 오실레이터 등 \n",
    "주식 시장을 바라보는 트레이더의 시각에 따라 사용되는 지표가 다름 \n",
    "가치투자전략 : 당기순이익, 영업이익, 영업이익률, 매출액, 부채비율,PER,PBR,PSR,\n",
    "    PCR,ROE.ROA등 재무제표 데이터를 기초로함.. \n",
    "주가 데이터를 사용해 만든 기술 지표를 활용하는 방법처럼 지표를 계산하는 작업보다\n",
    "기준이 되는 데이터에서 순위를 매겨 분위별로 자르는 작업이 훨씬 중요함 "
   ]
  },
  {
   "cell_type": "code",
   "execution_count": null,
   "id": "ca9f856b",
   "metadata": {},
   "outputs": [],
   "source": [
    "평균회귀지표 "
   ]
  },
  {
   "cell_type": "code",
   "execution_count": null,
   "id": "a553ec10",
   "metadata": {},
   "outputs": [],
   "source": [
    "평균으로서의 회귀 : 평균에 가까워지려는 경향성 \n",
    "회귀지표를 볼린저밴드로 구현해봄\n",
    "볼린저밴드 : 중심선(이동평균선), 상단선과 하단선(표준편차밴드)\n",
    "추세와 변동성을 분석해줌.. \n",
    "보통 중심선을 이루는 이동평균선을 계산할때 20일을 사용\n",
    "상하위밴드는 20일 이동평균선 +- 2*20일 이동 표준편차를 사용함 \n",
    "ex) 상단밴드 = 중간밴드 +2*20일 이동 표준편차\n",
    "    중간밴드 = 20일 이동 평균선\n",
    "    하단밴드 = 중간밴드 -2*20일 이동 표준편차 "
   ]
  },
  {
   "cell_type": "code",
   "execution_count": null,
   "id": "b679fac8",
   "metadata": {},
   "outputs": [],
   "source": [
    "볼린저밴드 구현\n",
    "import pandas as pd\n",
    "df = pd.read_csv('./data/ETFs_main.csv')\n",
    "df.head()\n",
    "가장먼저 해야할 작업은 데이터를 불러와 탐색하는것임.\n",
    "주식차트를 볼때 확인하는것 \n",
    "날짜, 시가, 고가, 저가, 종가, 수정종가, 거래량 데이터로 구성됨 \n",
    "describe라는 함수를 이용해 데이터셋의 분포,중심,경향 분산 및 형태를 \n",
    "요약하는 통계 정보를 확인할수있음\n",
    "\n",
    "모든 변수를 사용할 필요가 없으므로 필요한 변수만 선택하기 위해 \n",
    "슬라이싱, 인덱싱, 서브셋을 이용해 날짜, 수정종가를 선택 및 추출하고\n",
    "copy함수를 통해 복사함\n",
    "price_df = df.loc[:,['Date','Adj Close']].copy()\n",
    "price_df.head()\n",
    "\n",
    "날짜, 수정 종가를 추출한 데이터 프레임을 price_df 변수에 저장함 \n",
    "연,월,일형식의 'Date'컬럼을 price_df의 인덱스로 설정할것임 \n",
    "price_df.set_index(['Date'],inplace=True)\n",
    "price_df.head()\n",
    "\n",
    "볼린저밴드를 구현하려면 중간밴드를 먼저 만들어야함으로 20일이동평균선을\n",
    ".rolling()함수로 구함\n",
    "price_df['center']=price_df['Adj Close'].rolling(20).mean()\n",
    "price_df.iloc[18:25]\n",
    "상단밴드 만들기\n",
    "price_df['ub'] = price_df['center'] +2 *price_df['Adj Close'],rolling(20).std()\n",
    "price_df.iloc[18:25] #mean()이라는 함수대신 표준편차를 구하는 std()를 사용\n",
    "price_df['lb'] = price_df['center'] -2 *price_df['Adj Close'].rolling(20).std()\n",
    "price_df.iloc[18:25]\n",
    "\n",
    "함수를 지정한다 \n",
    "입력 매개변수로 이동 평균선 기간과 표준 편차값을 전달받는다\n",
    "n = 20\n",
    "sigma = 2\n",
    "def bollinger_band(price_df,n,sigma):\n",
    "    bb = price_df.copy()\n",
    "    bb['center'] = price_df['Adj Close'].rolling(20).mean()\n",
    "    bb['ub'] = price_df['Adj Close'] + sigma * price_df['Adj Close'].rolling(n).std()\n",
    "    bb['lb'] = price_df['Adj Close'] - sigma * price_df['Adj Close'].rolling(n).std()    \n",
    "    \n",
    "    return bb\n",
    "bollinger = bollinger_band(price_df,n,sigma)\n"
   ]
  },
  {
   "cell_type": "code",
   "execution_count": null,
   "id": "e023c2e5",
   "metadata": {},
   "outputs": [],
   "source": [
    "기간을 나눠 볼린저 밴드를 활용한 성과를 확인한다\n",
    "base_date = '2009-01-02'\n",
    "sample = bollinger.loc[base_date:]"
   ]
  }
 ],
 "metadata": {
  "kernelspec": {
   "display_name": "Python 3 (ipykernel)",
   "language": "python",
   "name": "python3"
  },
  "language_info": {
   "codemirror_mode": {
    "name": "ipython",
    "version": 3
   },
   "file_extension": ".py",
   "mimetype": "text/x-python",
   "name": "python",
   "nbconvert_exporter": "python",
   "pygments_lexer": "ipython3",
   "version": "3.9.7"
  }
 },
 "nbformat": 4,
 "nbformat_minor": 5
}
